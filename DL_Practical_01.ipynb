{
  "nbformat": 4,
  "nbformat_minor": 0,
  "metadata": {
    "colab": {
      "provenance": []
    },
    "kernelspec": {
      "name": "python3",
      "display_name": "Python 3"
    },
    "language_info": {
      "name": "python"
    }
  },
  "cells": [
    {
      "cell_type": "code",
      "source": [
        "'''\n",
        "Question - 1\n",
        "\n",
        "Objective: - Predict Next Sequence\n",
        "\n",
        "To start with deep learning, the very basic project that you can build is to\n",
        "predict the next digit in a sequence.\n",
        "\n",
        "Dataset: - Create a sequence like a list of odd numbers and then build a model\n",
        "and train i \n",
        "\n",
        "Task: - A simple neural network with 2 layers would be sufficient to build the\n",
        "model.\n",
        "'''"
      ],
      "metadata": {
        "colab": {
          "base_uri": "https://localhost:8080/",
          "height": 53
        },
        "id": "ZVVIRk1YnzuS",
        "outputId": "0cd81e1a-cd61-408b-d73b-f5bfe97d11e9"
      },
      "execution_count": 70,
      "outputs": [
        {
          "output_type": "execute_result",
          "data": {
            "text/plain": [
              "'\\nQuestion - 1\\n\\nObjective: - Predict Next Sequence\\n\\nTo start with deep learning, the very basic project that you can build is to\\npredict the next digit in a sequence.\\n\\nDataset: - Create a sequence like a list of odd numbers and then build a model\\nand train i \\n\\nTask: - A simple neural network with 2 layers would be sufficient to build the\\nmodel.\\n'"
            ],
            "application/vnd.google.colaboratory.intrinsic+json": {
              "type": "string"
            }
          },
          "metadata": {},
          "execution_count": 70
        }
      ]
    },
    {
      "cell_type": "code",
      "execution_count": 71,
      "metadata": {
        "id": "fnCKNoaY4fVj",
        "colab": {
          "base_uri": "https://localhost:8080/"
        },
        "outputId": "3bf26c2d-828c-46a8-d499-3ccaf4b9395f"
      },
      "outputs": [
        {
          "output_type": "execute_result",
          "data": {
            "text/plain": [
              "<keras.callbacks.History at 0x7fc0617e4eb0>"
            ]
          },
          "metadata": {},
          "execution_count": 71
        }
      ],
      "source": [
        "import tensorflow as tf\n",
        "from keras.models import Sequential\n",
        "from keras.layers import Dense\n",
        "\n",
        "model = tf.keras.Sequential()\n",
        "\n",
        "X=[2*i+1 for i in range(100)]\n",
        "X,Y = zip(*zip(X,X[1:]))\n",
        "\n",
        "y= tf.constant(Y,dtype=\"int32\")\n",
        "x= tf.constant(X,dtype=\"int32\")\n",
        "\n",
        "model = Sequential()\n",
        "model.add(Dense(90,input_dim=1, activation= 'relu'))\n",
        "model.add(Dense(1))\n",
        "model.compile(loss='mean_squared_error', optimizer='adam')\n",
        "\n",
        "model.fit(x, y, epochs=500, verbose=0)"
      ]
    },
    {
      "cell_type": "code",
      "source": [
        "next_number = model.predict([[97]])\n",
        "print(int(next_number[0][0].round()))"
      ],
      "metadata": {
        "colab": {
          "base_uri": "https://localhost:8080/"
        },
        "id": "cCRCH4rw3GhF",
        "outputId": "060ab9e7-406a-4650-8918-0e798a00b3f0"
      },
      "execution_count": 72,
      "outputs": [
        {
          "output_type": "stream",
          "name": "stdout",
          "text": [
            "1/1 [==============================] - 0s 78ms/step\n",
            "99\n"
          ]
        }
      ]
    }
  ]
}